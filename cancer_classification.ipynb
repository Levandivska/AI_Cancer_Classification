{
 "cells": [
  {
   "cell_type": "code",
   "execution_count": 1,
   "metadata": {},
   "outputs": [],
   "source": [
    "import numpy as np\n",
    "from sklearn import metrics\n",
    "from sklearn.linear_model import LogisticRegression\n",
    "from sklearn import svm\n",
    "from sklearn import tree\n",
    "from sklearn.metrics import confusion_matrix\n",
    "from sklearn.metrics import classification_report"
   ]
  },
  {
   "cell_type": "code",
   "execution_count": 2,
   "metadata": {},
   "outputs": [],
   "source": [
    "dataset = np.loadtxt(\"train.csv\", delimiter=\",\", skiprows=1)\n",
    "dataset_test = np.loadtxt(\"test.csv\", delimiter=\",\", skiprows=1)\n",
    "true_data = np.loadtxt(\"sample_submission.csv\", delimiter=\",\", skiprows=1)"
   ]
  },
  {
   "cell_type": "code",
   "execution_count": 3,
   "metadata": {},
   "outputs": [],
   "source": [
    "X = dataset[:, 1:-1]\n",
    "y = dataset[:, -1]\n",
    "\n",
    "# sort datasets by id\n",
    "test_X_sorted = dataset_test[np.argsort(dataset_test[:, 0])]\n",
    "true_y_sorted = true_data[np.argsort(true_data[:, 0])]\n",
    "\n",
    "# delete id column\n",
    "test_X_sorted = test_X_sorted[:, 1:]\n",
    "true_y_sorted = true_y_sorted[:, 1]"
   ]
  },
  {
   "cell_type": "code",
   "execution_count": 4,
   "metadata": {},
   "outputs": [],
   "source": [
    "# Logistic regression\n",
    "\n",
    "lr_model = LogisticRegression(solver='lbfgs', C = 0.1, max_iter = 1000)\n",
    "lr_model.fit(X, y)\n",
    "lr_predicted = lr_model.predict(test_X_sorted)"
   ]
  },
  {
   "cell_type": "code",
   "execution_count": 5,
   "metadata": {},
   "outputs": [],
   "source": [
    "# Support Vector Machines\n",
    "\n",
    "svc_model = svm.SVC(gamma='scale')\n",
    "svc_model.fit(X, y)\n",
    "\n",
    "svc_predicted = svc_model.predict(test_X_sorted)"
   ]
  },
  {
   "cell_type": "code",
   "execution_count": 6,
   "metadata": {},
   "outputs": [],
   "source": [
    "# Decision Trees\n",
    "\n",
    "dtree_model = tree.DecisionTreeClassifier()\n",
    "dtree_model.fit(X, y)\n",
    "dtree_predicted = dtree_model.predict(test_X_sorted)"
   ]
  },
  {
   "cell_type": "code",
   "execution_count": 7,
   "metadata": {},
   "outputs": [
    {
     "name": "stdout",
     "output_type": "stream",
     "text": [
      "confusion_matrix:\n",
      " [[91 69]\n",
      " [ 0  0]]\n",
      "              precision    recall  f1-score   support\n",
      "\n",
      "     class 0       1.00      0.57      0.73       160\n",
      "     class 1       0.00      0.00      0.00         0\n",
      "\n",
      "    accuracy                           0.57       160\n",
      "   macro avg       0.50      0.28      0.36       160\n",
      "weighted avg       1.00      0.57      0.73       160\n",
      "\n"
     ]
    },
    {
     "name": "stderr",
     "output_type": "stream",
     "text": [
      "/Library/Frameworks/Python.framework/Versions/3.6/lib/python3.6/site-packages/sklearn/metrics/classification.py:1439: UndefinedMetricWarning: Recall and F-score are ill-defined and being set to 0.0 in labels with no true samples.\n",
      "  'recall', 'true', average, warn_for)\n"
     ]
    }
   ],
   "source": [
    "target_names = ['class 0', 'class 1'] \n",
    "\n",
    "print(\"confusion_matrix:\\n\", confusion_matrix(true_y_sorted, lr_predicted))\n",
    "print(classification_report(true_y_sorted, lr_predicted, labels=[0.0, 1.0], target_names=target_names))"
   ]
  },
  {
   "cell_type": "code",
   "execution_count": 8,
   "metadata": {},
   "outputs": [
    {
     "name": "stdout",
     "output_type": "stream",
     "text": [
      "confusion_matrix:\n",
      " [[110  50]\n",
      " [  0   0]]\n",
      "              precision    recall  f1-score   support\n",
      "\n",
      "     class 0       1.00      0.69      0.81       160\n",
      "     class 1       0.00      0.00      0.00         0\n",
      "\n",
      "    accuracy                           0.69       160\n",
      "   macro avg       0.50      0.34      0.41       160\n",
      "weighted avg       1.00      0.69      0.81       160\n",
      "\n"
     ]
    }
   ],
   "source": [
    "target_names = ['class 0', 'class 1'] \n",
    "print(\"confusion_matrix:\\n\", confusion_matrix(true_y_sorted, svc_predicted))\n",
    "print(classification_report(true_y_sorted, svc_predicted, labels=[0.0, 1.0], target_names=target_names))"
   ]
  },
  {
   "cell_type": "code",
   "execution_count": 9,
   "metadata": {},
   "outputs": [
    {
     "name": "stdout",
     "output_type": "stream",
     "text": [
      "confusion_matrix:\n",
      " [[83 77]\n",
      " [ 0  0]]\n",
      "              precision    recall  f1-score   support\n",
      "\n",
      "     class 0       1.00      0.52      0.68       160\n",
      "     class 1       0.00      0.00      0.00         0\n",
      "\n",
      "    accuracy                           0.52       160\n",
      "   macro avg       0.50      0.26      0.34       160\n",
      "weighted avg       1.00      0.52      0.68       160\n",
      "\n"
     ]
    }
   ],
   "source": [
    "target_names = ['class 0', 'class 1'] \n",
    "print(\"confusion_matrix:\\n\", confusion_matrix(true_y_sorted, dtree_predicted))\n",
    "print(classification_report(true_y_sorted, dtree_predicted, labels=[0.0, 1.0], target_names=target_names))"
   ]
  }
 ],
 "metadata": {
  "kernelspec": {
   "display_name": "Python 3",
   "language": "python",
   "name": "python3"
  },
  "language_info": {
   "codemirror_mode": {
    "name": "ipython",
    "version": 3
   },
   "file_extension": ".py",
   "mimetype": "text/x-python",
   "name": "python",
   "nbconvert_exporter": "python",
   "pygments_lexer": "ipython3",
   "version": "3.6.2"
  }
 },
 "nbformat": 4,
 "nbformat_minor": 2
}
